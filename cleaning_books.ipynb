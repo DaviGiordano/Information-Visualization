{
 "cells": [
  {
   "cell_type": "code",
   "execution_count": 45,
   "metadata": {},
   "outputs": [],
   "source": [
    "import pandas as pd\n",
    "import numpy as np\n",
    "import seaborn as sns\n"
   ]
  },
  {
   "cell_type": "markdown",
   "metadata": {},
   "source": [
    "# Importing the data"
   ]
  },
  {
   "cell_type": "code",
   "execution_count": 46,
   "metadata": {},
   "outputs": [],
   "source": [
    "df_books = pd.read_csv('best_books_goodreads.csv', dtype={'awards':object})\n",
    "df_books_raw = df_books"
   ]
  },
  {
   "cell_type": "markdown",
   "metadata": {},
   "source": [
    "# General cleaning"
   ]
  },
  {
   "cell_type": "code",
   "execution_count": 47,
   "metadata": {},
   "outputs": [
    {
     "data": {
      "text/plain": [
       "Index(['bookId', 'title', 'series', 'author', 'rating', 'description',\n",
       "       'language', 'isbn', 'genres', 'characters', 'bookFormat', 'edition',\n",
       "       'pages', 'publisher', 'publishDate', 'firstPublishDate', 'awards',\n",
       "       'numRatings', 'ratingsByStars', 'likedPercent', 'setting', 'coverImg',\n",
       "       'bbeScore', 'bbeVotes', 'price'],\n",
       "      dtype='object')"
      ]
     },
     "execution_count": 47,
     "metadata": {},
     "output_type": "execute_result"
    }
   ],
   "source": [
    "df_books.columns"
   ]
  },
  {
   "cell_type": "code",
   "execution_count": 48,
   "metadata": {},
   "outputs": [
    {
     "data": {
      "text/html": [
       "<div>\n",
       "<style scoped>\n",
       "    .dataframe tbody tr th:only-of-type {\n",
       "        vertical-align: middle;\n",
       "    }\n",
       "\n",
       "    .dataframe tbody tr th {\n",
       "        vertical-align: top;\n",
       "    }\n",
       "\n",
       "    .dataframe thead th {\n",
       "        text-align: right;\n",
       "    }\n",
       "</style>\n",
       "<table border=\"1\" class=\"dataframe\">\n",
       "  <thead>\n",
       "    <tr style=\"text-align: right;\">\n",
       "      <th></th>\n",
       "      <th>bookId</th>\n",
       "      <th>title</th>\n",
       "      <th>series</th>\n",
       "      <th>author</th>\n",
       "      <th>rating</th>\n",
       "      <th>isbn</th>\n",
       "      <th>genres</th>\n",
       "      <th>pages</th>\n",
       "      <th>publishDate</th>\n",
       "      <th>firstPublishDate</th>\n",
       "      <th>awards</th>\n",
       "      <th>numRatings</th>\n",
       "      <th>ratingsByStars</th>\n",
       "    </tr>\n",
       "  </thead>\n",
       "  <tbody>\n",
       "    <tr>\n",
       "      <th>0</th>\n",
       "      <td>2767052-the-hunger-games</td>\n",
       "      <td>The Hunger Games</td>\n",
       "      <td>The Hunger Games #1</td>\n",
       "      <td>Suzanne Collins</td>\n",
       "      <td>4.33</td>\n",
       "      <td>9780439023481</td>\n",
       "      <td>['Young Adult', 'Fiction', 'Dystopia', 'Fantas...</td>\n",
       "      <td>374</td>\n",
       "      <td>09/14/08</td>\n",
       "      <td>NaN</td>\n",
       "      <td>['Locus Award Nominee for Best Young Adult Boo...</td>\n",
       "      <td>6376780</td>\n",
       "      <td>['3444695', '1921313', '745221', '171994', '93...</td>\n",
       "    </tr>\n",
       "  </tbody>\n",
       "</table>\n",
       "</div>"
      ],
      "text/plain": [
       "                     bookId             title               series  \\\n",
       "0  2767052-the-hunger-games  The Hunger Games  The Hunger Games #1   \n",
       "\n",
       "            author  rating           isbn  \\\n",
       "0  Suzanne Collins    4.33  9780439023481   \n",
       "\n",
       "                                              genres pages publishDate  \\\n",
       "0  ['Young Adult', 'Fiction', 'Dystopia', 'Fantas...   374    09/14/08   \n",
       "\n",
       "  firstPublishDate                                             awards  \\\n",
       "0              NaN  ['Locus Award Nominee for Best Young Adult Boo...   \n",
       "\n",
       "   numRatings                                     ratingsByStars  \n",
       "0     6376780  ['3444695', '1921313', '745221', '171994', '93...  "
      ]
     },
     "execution_count": 48,
     "metadata": {},
     "output_type": "execute_result"
    }
   ],
   "source": [
    "# Dropping unnecessary columns\n",
    "df_books.drop(columns=['description', 'language', 'characters', 'bookFormat','edition','publisher','likedPercent',\n",
    "                        'setting', 'coverImg', 'bbeScore', 'bbeVotes', 'price'], inplace=True)\n",
    "df_books.head(1)"
   ]
  },
  {
   "cell_type": "code",
   "execution_count": 49,
   "metadata": {},
   "outputs": [
    {
     "name": "stdout",
     "output_type": "stream",
     "text": [
      "Lenght before  52478\n",
      "Lenght after  48124\n"
     ]
    }
   ],
   "source": [
    "# Removing books without ISBN\n",
    "print('Lenght before ',len(df_books))\n",
    "df_books = df_books[df_books['isbn']!= '9999999999999']\n",
    "print('Lenght after ',len(df_books))"
   ]
  },
  {
   "cell_type": "markdown",
   "metadata": {},
   "source": [
    "### Removing books under median number of ratings"
   ]
  },
  {
   "cell_type": "code",
   "execution_count": 50,
   "metadata": {},
   "outputs": [
    {
     "name": "stdout",
     "output_type": "stream",
     "text": [
      "Len before filtering 0.75 best books: 48124\n",
      "Len after: 24060\n"
     ]
    }
   ],
   "source": [
    "# Verification function just to not filter twice\n",
    "if len(df_books) == 48124:\n",
    "    median_num_ratings = df_books['numRatings'].fillna(value=0).astype(int).quantile(0.5)\n",
    "    print(\"Len before filtering 0.5 best books:\", len(df_books))\n",
    "    df_books = df_books[df_books['numRatings'] > median_num_ratings].copy()\n",
    "    print(\"Len after:\", len(df_books))\n",
    "else:\n",
    "    print('Already filtered')\n",
    "    print(\"Len after:\", len(df_books))"
   ]
  },
  {
   "cell_type": "markdown",
   "metadata": {},
   "source": [
    "### Removing books with wrong or outlier page count"
   ]
  },
  {
   "cell_type": "code",
   "execution_count": 51,
   "metadata": {},
   "outputs": [],
   "source": [
    "# Filtering multiple errors in page column\n",
    "\n",
    "# '1 page' error\n",
    "df_books = df_books[df_books['pages']!='1 page']\n",
    "\n",
    "# NA error\n",
    "df_books = df_books[~df_books['pages'].isna()]\n",
    "\n",
    "# Books with 0 pages\n",
    "df_books = df_books[df_books['pages'] != 0]\n",
    "\n",
    "# Removing books with less than 10 pages and more than 2_000 pages\n",
    "min_num_of_pages = 10\n",
    "max_num_of_pages = 2000 # The 2000 number was decided after viewing the distribution and seeing that this threshold contains most books. Out of this range books will be consider outliers\n",
    "\n",
    "df_books['pages'] = df_books['pages'].astype(int)\n",
    "df_books = df_books[df_books['pages'] < max_num_of_pages]\n",
    "df_books = df_books[df_books['pages'] > min_num_of_pages]"
   ]
  },
  {
   "cell_type": "markdown",
   "metadata": {},
   "source": [
    "# Calculating success metrics against number of pages"
   ]
  },
  {
   "cell_type": "markdown",
   "metadata": {},
   "source": [
    "### Normalizing rating"
   ]
  },
  {
   "cell_type": "code",
   "execution_count": 52,
   "metadata": {},
   "outputs": [
    {
     "data": {
      "text/html": [
       "<div>\n",
       "<style scoped>\n",
       "    .dataframe tbody tr th:only-of-type {\n",
       "        vertical-align: middle;\n",
       "    }\n",
       "\n",
       "    .dataframe tbody tr th {\n",
       "        vertical-align: top;\n",
       "    }\n",
       "\n",
       "    .dataframe thead th {\n",
       "        text-align: right;\n",
       "    }\n",
       "</style>\n",
       "<table border=\"1\" class=\"dataframe\">\n",
       "  <thead>\n",
       "    <tr style=\"text-align: right;\">\n",
       "      <th></th>\n",
       "      <th>title</th>\n",
       "      <th>norm_rating</th>\n",
       "    </tr>\n",
       "  </thead>\n",
       "  <tbody>\n",
       "    <tr>\n",
       "      <th>256</th>\n",
       "      <td>The Complete Calvin and Hobbes</td>\n",
       "      <td>0.964</td>\n",
       "    </tr>\n",
       "    <tr>\n",
       "      <th>26500</th>\n",
       "      <td>The Way of Kings, Part 2</td>\n",
       "      <td>0.958</td>\n",
       "    </tr>\n",
       "    <tr>\n",
       "      <th>9529</th>\n",
       "      <td>Nutuk</td>\n",
       "      <td>0.958</td>\n",
       "    </tr>\n",
       "  </tbody>\n",
       "</table>\n",
       "</div>"
      ],
      "text/plain": [
       "                                title  norm_rating\n",
       "256    The Complete Calvin and Hobbes        0.964\n",
       "26500        The Way of Kings, Part 2        0.958\n",
       "9529                            Nutuk        0.958"
      ]
     },
     "execution_count": 52,
     "metadata": {},
     "output_type": "execute_result"
    }
   ],
   "source": [
    "# Creating normalized rating column\n",
    "df_books['norm_rating'] = df_books['rating']/5\n",
    "df_books[['title','norm_rating']].sort_values(by='norm_rating', ascending=False).head(3)"
   ]
  },
  {
   "cell_type": "markdown",
   "metadata": {},
   "source": [
    "### Normalizing number of awards"
   ]
  },
  {
   "cell_type": "code",
   "execution_count": 53,
   "metadata": {},
   "outputs": [
    {
     "name": "stdout",
     "output_type": "stream",
     "text": [
      "Max number of awards:  41\n"
     ]
    },
    {
     "data": {
      "text/html": [
       "<div>\n",
       "<style scoped>\n",
       "    .dataframe tbody tr th:only-of-type {\n",
       "        vertical-align: middle;\n",
       "    }\n",
       "\n",
       "    .dataframe tbody tr th {\n",
       "        vertical-align: top;\n",
       "    }\n",
       "\n",
       "    .dataframe thead th {\n",
       "        text-align: right;\n",
       "    }\n",
       "</style>\n",
       "<table border=\"1\" class=\"dataframe\">\n",
       "  <thead>\n",
       "    <tr style=\"text-align: right;\">\n",
       "      <th></th>\n",
       "      <th>title</th>\n",
       "      <th>norm_num_awards</th>\n",
       "    </tr>\n",
       "  </thead>\n",
       "  <tbody>\n",
       "    <tr>\n",
       "      <th>0</th>\n",
       "      <td>The Hunger Games</td>\n",
       "      <td>1.000000</td>\n",
       "    </tr>\n",
       "    <tr>\n",
       "      <th>5355</th>\n",
       "      <td>Escape from Mr. Lemoncello's Library</td>\n",
       "      <td>0.658537</td>\n",
       "    </tr>\n",
       "    <tr>\n",
       "      <th>4</th>\n",
       "      <td>Twilight</td>\n",
       "      <td>0.609756</td>\n",
       "    </tr>\n",
       "  </tbody>\n",
       "</table>\n",
       "</div>"
      ],
      "text/plain": [
       "                                     title  norm_num_awards\n",
       "0                         The Hunger Games         1.000000\n",
       "5355  Escape from Mr. Lemoncello's Library         0.658537\n",
       "4                                 Twilight         0.609756"
      ]
     },
     "execution_count": 53,
     "metadata": {},
     "output_type": "execute_result"
    }
   ],
   "source": [
    "from ast import literal_eval\n",
    "\n",
    "# Converting list columns into list type\n",
    "df_books['awards'] = df_books['awards'].apply(literal_eval)\n",
    "\n",
    "# Creating column with the number of awards for each book\n",
    "df_books['num_awards'] = df_books['awards'].apply(len)\n",
    "\n",
    "# Calculating the maximum number of awards and printing it\n",
    "max_num_awards = max(df_books['num_awards'])\n",
    "print(\"Max number of awards: \", max_num_awards)\n",
    "\n",
    "# Creating the normalized number of awards column\n",
    "df_books['norm_num_awards'] = df_books['num_awards']/max_num_awards\n",
    "df_books[['title','norm_num_awards']].sort_values(by='norm_num_awards', ascending=False).head(3)"
   ]
  },
  {
   "cell_type": "markdown",
   "metadata": {},
   "source": [
    "### Normalizing number of ratings"
   ]
  },
  {
   "cell_type": "code",
   "execution_count": 54,
   "metadata": {},
   "outputs": [
    {
     "name": "stdout",
     "output_type": "stream",
     "text": [
      "Max number of ratings:  6376780\n"
     ]
    },
    {
     "data": {
      "text/html": [
       "<div>\n",
       "<style scoped>\n",
       "    .dataframe tbody tr th:only-of-type {\n",
       "        vertical-align: middle;\n",
       "    }\n",
       "\n",
       "    .dataframe tbody tr th {\n",
       "        vertical-align: top;\n",
       "    }\n",
       "\n",
       "    .dataframe thead th {\n",
       "        text-align: right;\n",
       "    }\n",
       "</style>\n",
       "<table border=\"1\" class=\"dataframe\">\n",
       "  <thead>\n",
       "    <tr style=\"text-align: right;\">\n",
       "      <th></th>\n",
       "      <th>title</th>\n",
       "      <th>norm_num_ratings</th>\n",
       "    </tr>\n",
       "  </thead>\n",
       "  <tbody>\n",
       "    <tr>\n",
       "      <th>0</th>\n",
       "      <td>The Hunger Games</td>\n",
       "      <td>1.000000</td>\n",
       "    </tr>\n",
       "    <tr>\n",
       "      <th>4</th>\n",
       "      <td>Twilight</td>\n",
       "      <td>0.778531</td>\n",
       "    </tr>\n",
       "    <tr>\n",
       "      <th>80</th>\n",
       "      <td>1984</td>\n",
       "      <td>0.492481</td>\n",
       "    </tr>\n",
       "  </tbody>\n",
       "</table>\n",
       "</div>"
      ],
      "text/plain": [
       "               title  norm_num_ratings\n",
       "0   The Hunger Games          1.000000\n",
       "4           Twilight          0.778531\n",
       "80              1984          0.492481"
      ]
     },
     "execution_count": 54,
     "metadata": {},
     "output_type": "execute_result"
    }
   ],
   "source": [
    "# Calculating the maximum number of ratings\n",
    "max_num_ratings = max(df_books['numRatings'])\n",
    "print(\"Max number of ratings: \", max_num_ratings)\n",
    "\n",
    "# Creating the column with maximum number of ratings\n",
    "df_books['norm_num_ratings'] = df_books['numRatings']/max_num_ratings\n",
    "df_books[['title', 'norm_num_ratings']].sort_values(by='norm_num_ratings', ascending=False).head(3)\n"
   ]
  },
  {
   "cell_type": "markdown",
   "metadata": {},
   "source": [
    "### Creating derived success measure"
   ]
  },
  {
   "cell_type": "code",
   "execution_count": 55,
   "metadata": {},
   "outputs": [
    {
     "data": {
      "text/html": [
       "<div>\n",
       "<style scoped>\n",
       "    .dataframe tbody tr th:only-of-type {\n",
       "        vertical-align: middle;\n",
       "    }\n",
       "\n",
       "    .dataframe tbody tr th {\n",
       "        vertical-align: top;\n",
       "    }\n",
       "\n",
       "    .dataframe thead th {\n",
       "        text-align: right;\n",
       "    }\n",
       "</style>\n",
       "<table border=\"1\" class=\"dataframe\">\n",
       "  <thead>\n",
       "    <tr style=\"text-align: right;\">\n",
       "      <th></th>\n",
       "      <th>title</th>\n",
       "      <th>success_rate</th>\n",
       "    </tr>\n",
       "  </thead>\n",
       "  <tbody>\n",
       "    <tr>\n",
       "      <th>0</th>\n",
       "      <td>The Hunger Games</td>\n",
       "      <td>0.966500</td>\n",
       "    </tr>\n",
       "    <tr>\n",
       "      <th>4</th>\n",
       "      <td>Twilight</td>\n",
       "      <td>0.679511</td>\n",
       "    </tr>\n",
       "    <tr>\n",
       "      <th>21</th>\n",
       "      <td>Divergent</td>\n",
       "      <td>0.567342</td>\n",
       "    </tr>\n",
       "  </tbody>\n",
       "</table>\n",
       "</div>"
      ],
      "text/plain": [
       "               title  success_rate\n",
       "0   The Hunger Games      0.966500\n",
       "4           Twilight      0.679511\n",
       "21         Divergent      0.567342"
      ]
     },
     "execution_count": 55,
     "metadata": {},
     "output_type": "execute_result"
    }
   ],
   "source": [
    "# Defining the weights\n",
    "weights = {\n",
    "    'avg_rating': 1,\n",
    "    'num_awards': 2,\n",
    "    'num_ratings': 1\n",
    "}\n",
    "\n",
    "# Calculating the success rate\n",
    "df_books['success_rate'] = (df_books['norm_num_awards']*weights['num_awards']+\\\n",
    "                           df_books['norm_num_ratings']*weights['num_ratings']+\\\n",
    "                           df_books['norm_rating']*weights['avg_rating'])/sum(weights.values())\n",
    "\n",
    "# Visualizing most successful books \n",
    "df_books[['title', 'success_rate']].sort_values(by='success_rate', ascending=False).head(3)"
   ]
  },
  {
   "cell_type": "markdown",
   "metadata": {},
   "source": [
    "### Cleaning number of pages column"
   ]
  },
  {
   "cell_type": "markdown",
   "metadata": {},
   "source": [
    "### Quickly visualizing the distribution of number of pages"
   ]
  },
  {
   "cell_type": "code",
   "execution_count": 56,
   "metadata": {},
   "outputs": [
    {
     "data": {
      "text/plain": [
       "count    23711.000000\n",
       "mean       346.336637\n",
       "std        176.401959\n",
       "min         11.000000\n",
       "25%        243.000000\n",
       "50%        329.000000\n",
       "75%        413.000000\n",
       "max       1952.000000\n",
       "Name: pages, dtype: float64"
      ]
     },
     "execution_count": 56,
     "metadata": {},
     "output_type": "execute_result"
    }
   ],
   "source": [
    "df_books['pages'].describe()"
   ]
  },
  {
   "cell_type": "markdown",
   "metadata": {},
   "source": [
    "### Creating an object with the number of pages and the average sucess rate:"
   ]
  },
  {
   "cell_type": "code",
   "execution_count": 57,
   "metadata": {},
   "outputs": [
    {
     "data": {
      "text/plain": [
       "Index(['bookId', 'title', 'series', 'author', 'rating', 'isbn', 'genres',\n",
       "       'pages', 'publishDate', 'firstPublishDate', 'awards', 'numRatings',\n",
       "       'ratingsByStars', 'norm_rating', 'num_awards', 'norm_num_awards',\n",
       "       'norm_num_ratings', 'success_rate'],\n",
       "      dtype='object')"
      ]
     },
     "execution_count": 57,
     "metadata": {},
     "output_type": "execute_result"
    }
   ],
   "source": [
    "df_books.columns"
   ]
  },
  {
   "cell_type": "code",
   "execution_count": 58,
   "metadata": {},
   "outputs": [
    {
     "data": {
      "text/plain": [
       "<Axes: xlabel='pages', ylabel='success_rate'>"
      ]
     },
     "execution_count": 58,
     "metadata": {},
     "output_type": "execute_result"
    },
    {
     "data": {
      "image/png": "[encoded data removed]",
      "text/plain": [
       "<Figure size 640x480 with 1 Axes>"
      ]
     },
     "metadata": {},
     "output_type": "display_data"
    }
   ],
   "source": [
    "# Calculating the average success rate by number of pages\n",
    "success_by_num_pages = df_books.groupby('pages').agg({\n",
    "    'success_rate':'mean',\n",
    "    'norm_rating':'mean',\n",
    "    'norm_num_awards':'mean',\n",
    "    'norm_num_ratings':'mean',\n",
    "    })\n",
    "sns.scatterplot(success_by_num_pages['success_rate'])"
   ]
  },
  {
   "cell_type": "code",
   "execution_count": 59,
   "metadata": {},
   "outputs": [],
   "source": [
    "import json\n",
    "\n",
    "# Exporting sucess rate by number of pages\n",
    "def export_json(data, filename):    \n",
    "    with open(f'./output/{filename}.json', 'w') as f:\n",
    "        json.dump(data, f)\n",
    "\n",
    "export_json(dict(success_by_num_pages['success_rate']), 'success_by_pages/success_rate_by_num_pages')\n",
    "export_json(dict(success_by_num_pages['norm_rating']), 'success_by_pages/norm_rating_by_num_pages')\n",
    "export_json(dict(success_by_num_pages['norm_num_awards']), 'success_by_pages/norm_num_awards_by_num_pages')\n",
    "export_json(dict(success_by_num_pages['norm_num_ratings']), 'success_by_pages/norm_num_ratings_by_num_pages')"
   ]
  },
  {
   "cell_type": "markdown",
   "metadata": {},
   "source": [
    "# Linking genres two by two"
   ]
  },
  {
   "cell_type": "markdown",
   "metadata": {},
   "source": [
    "### Creating genre:book dictionary"
   ]
  },
  {
   "cell_type": "code",
   "execution_count": 60,
   "metadata": {},
   "outputs": [],
   "source": [
    "from collections import defaultdict\n",
    "\n",
    "# Formatting the genres column\n",
    "df_books['genres'] = df_books['genres'].apply(literal_eval)\n",
    "\n",
    "# Initialize defaultdict books by genre\n",
    "genre_dict = defaultdict(list)\n",
    "\n",
    "# Loop through each row in the dataframe to get the books in each genre\n",
    "for index, row in df_books.iterrows():\n",
    "    book_name = row['title']\n",
    "    genres = row['genres']\n",
    "    for genre in genres:\n",
    "        genre_dict[genre].append(book_name)\n",
    "\n",
    "# Dictionary that stores the books that are into each genre\n",
    "books_by_genre_dict = dict(genre_dict)\n",
    "\n",
    "# Get the number of books for each genre\n",
    "genre_count = {k: len(v) for k, v in books_by_genre_dict.items()}"
   ]
  },
  {
   "cell_type": "markdown",
   "metadata": {},
   "source": [
    "### Filtering genres"
   ]
  },
  {
   "cell_type": "code",
   "execution_count": 61,
   "metadata": {},
   "outputs": [
    {
     "name": "stdout",
     "output_type": "stream",
     "text": [
      "lenght of used df: 23711 lenght of threshold: 2500\n",
      "Number of genres to be considered: 21\n"
     ]
    }
   ],
   "source": [
    "# Arbitrary threshold for the minimum number of books in a genre\n",
    "threshold = 2500\n",
    "print('lenght of used df:', len(df_books), 'lenght of threshold:', threshold)\n",
    "\n",
    "# Filtering 'number of books for each genre' dict by threshold\n",
    "filtered_genre_count = {k: v for k, v in genre_count.items() if v >= threshold}\n",
    "print('Number of genres to be considered:', len(filtered_genre_count))\n",
    "\n",
    "# Filtering 'books for each genre' dict by threshold\n",
    "filtered_genre_dict = {k: v for k, v in genre_dict.items() if len(v)>=threshold}\n",
    "\n",
    "\n",
    "# Saving number of books for each genre and books by genre\n",
    "export_json(filtered_genre_count, 'genres/num_books_by_genre')\n",
    "export_json(filtered_genre_dict, 'genres/books_by_genre')"
   ]
  },
  {
   "cell_type": "markdown",
   "metadata": {},
   "source": [
    "### Calculating co-occurences"
   ]
  },
  {
   "cell_type": "code",
   "execution_count": 62,
   "metadata": {},
   "outputs": [],
   "source": [
    "# Initialize nested defaultdict for counting co-occurrences\n",
    "co_occurrence = defaultdict(lambda: defaultdict(int))\n",
    "\n",
    "# Count co-occurrences for each genre combination\n",
    "for genre1 in filtered_genre_dict:\n",
    "    for genre2 in filtered_genre_dict:\n",
    "        if genre1 == genre2:\n",
    "            continue\n",
    "        common_books = set(filtered_genre_dict[genre1]) & set(filtered_genre_dict[genre2])\n",
    "        co_occurrence[genre1][genre2] = len(common_books)\n",
    "\n",
    "# Convert nested defaultdict to regular dict\n",
    "co_occurrence = {k: dict(v) for k, v in co_occurrence.items()}\n",
    "\n",
    "# Saving co-occurence counts\n",
    "export_json(co_occurrence, 'genres/cooccurences_2_by_2_genre')"
   ]
  },
  {
   "cell_type": "code",
   "execution_count": 63,
   "metadata": {},
   "outputs": [
    {
     "data": {
      "text/plain": [
       "23711"
      ]
     },
     "execution_count": 63,
     "metadata": {},
     "output_type": "execute_result"
    }
   ],
   "source": [
    "len(df_books)"
   ]
  },
  {
   "cell_type": "markdown",
   "metadata": {},
   "source": [
    "# Getting trends in series"
   ]
  },
  {
   "cell_type": "markdown",
   "metadata": {},
   "source": [
    "### Creating dataframe with books that are series only"
   ]
  },
  {
   "cell_type": "code",
   "execution_count": 131,
   "metadata": {},
   "outputs": [
    {
     "data": {
      "text/html": [
       "<div>\n",
       "<style scoped>\n",
       "    .dataframe tbody tr th:only-of-type {\n",
       "        vertical-align: middle;\n",
       "    }\n",
       "\n",
       "    .dataframe tbody tr th {\n",
       "        vertical-align: top;\n",
       "    }\n",
       "\n",
       "    .dataframe thead th {\n",
       "        text-align: right;\n",
       "    }\n",
       "</style>\n",
       "<table border=\"1\" class=\"dataframe\">\n",
       "  <thead>\n",
       "    <tr style=\"text-align: right;\">\n",
       "      <th></th>\n",
       "      <th>bookId</th>\n",
       "      <th>title</th>\n",
       "      <th>series</th>\n",
       "      <th>author</th>\n",
       "      <th>rating</th>\n",
       "      <th>isbn</th>\n",
       "      <th>genres</th>\n",
       "      <th>pages</th>\n",
       "      <th>publishDate</th>\n",
       "      <th>firstPublishDate</th>\n",
       "      <th>awards</th>\n",
       "      <th>numRatings</th>\n",
       "      <th>ratingsByStars</th>\n",
       "      <th>norm_rating</th>\n",
       "      <th>num_awards</th>\n",
       "      <th>norm_num_awards</th>\n",
       "      <th>norm_num_ratings</th>\n",
       "      <th>success_rate</th>\n",
       "      <th>name_of_series</th>\n",
       "      <th>num_in_series</th>\n",
       "    </tr>\n",
       "  </thead>\n",
       "  <tbody>\n",
       "    <tr>\n",
       "      <th>0</th>\n",
       "      <td>2767052-the-hunger-games</td>\n",
       "      <td>The Hunger Games</td>\n",
       "      <td>The Hunger Games #1</td>\n",
       "      <td>Suzanne Collins</td>\n",
       "      <td>4.33</td>\n",
       "      <td>9780439023481</td>\n",
       "      <td>[Young Adult, Fiction, Dystopia, Fantasy, Scie...</td>\n",
       "      <td>374</td>\n",
       "      <td>09/14/08</td>\n",
       "      <td>NaN</td>\n",
       "      <td>[Locus Award Nominee for Best Young Adult Book...</td>\n",
       "      <td>6376780</td>\n",
       "      <td>['3444695', '1921313', '745221', '171994', '93...</td>\n",
       "      <td>0.866</td>\n",
       "      <td>41</td>\n",
       "      <td>1.000000</td>\n",
       "      <td>1.000000</td>\n",
       "      <td>0.966500</td>\n",
       "      <td>The Hunger Games</td>\n",
       "      <td>1</td>\n",
       "    </tr>\n",
       "    <tr>\n",
       "      <th>1</th>\n",
       "      <td>2.Harry_Potter_and_the_Order_of_the_Phoenix</td>\n",
       "      <td>Harry Potter and the Order of the Phoenix</td>\n",
       "      <td>Harry Potter #5</td>\n",
       "      <td>J.K. Rowling, Mary GrandPré (Illustrator)</td>\n",
       "      <td>4.50</td>\n",
       "      <td>9780439358071</td>\n",
       "      <td>[Fantasy, Young Adult, Fiction, Magic, Childre...</td>\n",
       "      <td>870</td>\n",
       "      <td>09/28/04</td>\n",
       "      <td>06/21/03</td>\n",
       "      <td>[Bram Stoker Award for Works for Young Readers...</td>\n",
       "      <td>2507623</td>\n",
       "      <td>['1593642', '637516', '222366', '39573', '14526']</td>\n",
       "      <td>0.900</td>\n",
       "      <td>9</td>\n",
       "      <td>0.219512</td>\n",
       "      <td>0.393243</td>\n",
       "      <td>0.433067</td>\n",
       "      <td>Harry Potter</td>\n",
       "      <td>5</td>\n",
       "    </tr>\n",
       "    <tr>\n",
       "      <th>4</th>\n",
       "      <td>41865.Twilight</td>\n",
       "      <td>Twilight</td>\n",
       "      <td>The Twilight Saga #1</td>\n",
       "      <td>Stephenie Meyer</td>\n",
       "      <td>3.60</td>\n",
       "      <td>9780316015844</td>\n",
       "      <td>[Young Adult, Fantasy, Romance, Vampires, Fict...</td>\n",
       "      <td>501</td>\n",
       "      <td>09/06/06</td>\n",
       "      <td>10/05/05</td>\n",
       "      <td>[Georgia Peach Book Award (2007), Buxtehuder B...</td>\n",
       "      <td>4964519</td>\n",
       "      <td>['1751460', '1113682', '1008686', '542017', '5...</td>\n",
       "      <td>0.720</td>\n",
       "      <td>25</td>\n",
       "      <td>0.609756</td>\n",
       "      <td>0.778531</td>\n",
       "      <td>0.679511</td>\n",
       "      <td>The Twilight Saga</td>\n",
       "      <td>1</td>\n",
       "    </tr>\n",
       "  </tbody>\n",
       "</table>\n",
       "</div>"
      ],
      "text/plain": [
       "                                        bookId  \\\n",
       "0                     2767052-the-hunger-games   \n",
       "1  2.Harry_Potter_and_the_Order_of_the_Phoenix   \n",
       "4                               41865.Twilight   \n",
       "\n",
       "                                       title                series  \\\n",
       "0                           The Hunger Games   The Hunger Games #1   \n",
       "1  Harry Potter and the Order of the Phoenix       Harry Potter #5   \n",
       "4                                   Twilight  The Twilight Saga #1   \n",
       "\n",
       "                                      author  rating           isbn  \\\n",
       "0                            Suzanne Collins    4.33  9780439023481   \n",
       "1  J.K. Rowling, Mary GrandPré (Illustrator)    4.50  9780439358071   \n",
       "4                            Stephenie Meyer    3.60  9780316015844   \n",
       "\n",
       "                                              genres  pages publishDate  \\\n",
       "0  [Young Adult, Fiction, Dystopia, Fantasy, Scie...    374    09/14/08   \n",
       "1  [Fantasy, Young Adult, Fiction, Magic, Childre...    870    09/28/04   \n",
       "4  [Young Adult, Fantasy, Romance, Vampires, Fict...    501    09/06/06   \n",
       "\n",
       "  firstPublishDate                                             awards  \\\n",
       "0              NaN  [Locus Award Nominee for Best Young Adult Book...   \n",
       "1         06/21/03  [Bram Stoker Award for Works for Young Readers...   \n",
       "4         10/05/05  [Georgia Peach Book Award (2007), Buxtehuder B...   \n",
       "\n",
       "   numRatings                                     ratingsByStars  norm_rating  \\\n",
       "0     6376780  ['3444695', '1921313', '745221', '171994', '93...        0.866   \n",
       "1     2507623  ['1593642', '637516', '222366', '39573', '14526']        0.900   \n",
       "4     4964519  ['1751460', '1113682', '1008686', '542017', '5...        0.720   \n",
       "\n",
       "   num_awards  norm_num_awards  norm_num_ratings  success_rate  \\\n",
       "0          41         1.000000          1.000000      0.966500   \n",
       "1           9         0.219512          0.393243      0.433067   \n",
       "4          25         0.609756          0.778531      0.679511   \n",
       "\n",
       "       name_of_series num_in_series  \n",
       "0   The Hunger Games              1  \n",
       "1       Harry Potter              5  \n",
       "4  The Twilight Saga              1  "
      ]
     },
     "execution_count": 131,
     "metadata": {},
     "output_type": "execute_result"
    }
   ],
   "source": [
    "df_series = (df_books[~df_books['series'].isna()]).copy()\n",
    "df_series['name_of_series'] = df_series['series'].str.split(pat='#', expand=True)[0]\n",
    "df_series['num_in_series'] = df_series['series'].str.split(pat='#', expand=True)[1]\n",
    "df_series.head(3)"
   ]
  },
  {
   "cell_type": "markdown",
   "metadata": {},
   "source": [
    "### Including only valid series numbers, from 1 to 20"
   ]
  },
  {
   "cell_type": "code",
   "execution_count": 118,
   "metadata": {},
   "outputs": [],
   "source": [
    "valid_series = ['1', '2', '3', '4', '5', '6', '7', '8', '9', '10', '11', '12', '13', '14', '15', '16', '17', '18', '19', '20']\n",
    "df_series = df_series[df_series['num_in_series'].isin(valid_series)].copy()\n",
    "df_series['num_in_series'] = df_series['num_in_series'].astype(int)"
   ]
  },
  {
   "cell_type": "markdown",
   "metadata": {},
   "source": [
    "### Agregating dataframe by number of book in series"
   ]
  },
  {
   "cell_type": "code",
   "execution_count": 212,
   "metadata": {},
   "outputs": [],
   "source": [
    "sucess_by_num_in_series = df_series.groupby('num_in_series', as_index=True).agg({\n",
    "    'success_rate':'mean',\n",
    "    'norm_rating':'mean',\n",
    "    'norm_num_awards':'mean',\n",
    "    'norm_num_ratings':'mean',\n",
    "})"
   ]
  },
  {
   "cell_type": "code",
   "execution_count": 213,
   "metadata": {},
   "outputs": [
    {
     "data": {
      "text/plain": [
       "<Axes: xlabel='num_in_series', ylabel='success_rate'>"
      ]
     },
     "execution_count": 213,
     "metadata": {},
     "output_type": "execute_result"
    },
    {
     "data": {
      "image/png": "[encoded data removed]",
      "text/plain": [
       "<Figure size 640x480 with 1 Axes>"
      ]
     },
     "metadata": {},
     "output_type": "display_data"
    }
   ],
   "source": [
    "sns.scatterplot(sucess_by_num_in_series['success_rate'])"
   ]
  },
  {
   "cell_type": "markdown",
   "metadata": {},
   "source": [
    "### Exporting json"
   ]
  },
  {
   "cell_type": "code",
   "execution_count": 130,
   "metadata": {},
   "outputs": [],
   "source": [
    "export_json(dict(sucess_by_num_in_series['success_rate']), 'success_by_num_in_series/success_rate_by_num_pages')\n",
    "export_json(dict(sucess_by_num_in_series['norm_rating']), 'success_by_num_in_series/norm_rating_by_num_pages')\n",
    "export_json(dict(sucess_by_num_in_series['norm_num_awards']), 'success_by_num_in_series/norm_num_awards_by_num_pages')\n",
    "export_json(dict(sucess_by_num_in_series['norm_num_ratings']), 'success_by_num_in_series/norm_num_ratings_by_num_pages')"
   ]
  },
  {
   "cell_type": "markdown",
   "metadata": {},
   "source": [
    "# Getting publishing pattern"
   ]
  },
  {
   "cell_type": "code",
   "execution_count": 133,
   "metadata": {},
   "outputs": [],
   "source": [
    "df_books['best_publish_date'] = df_books['firstPublishDate'].fillna(df_books['publishDate'])"
   ]
  },
  {
   "cell_type": "code",
   "execution_count": 144,
   "metadata": {},
   "outputs": [],
   "source": [
    "import pandas as pd\n",
    "from dateutil.parser import parse\n",
    "import re\n",
    "from datetime import datetime\n",
    "\n",
    "\n",
    "# Function to clean date\n",
    "def clean_date(date_str):\n",
    "    try:\n",
    "        # If the date contains only a year, returns None\n",
    "        if re.match(r'^\\d{4}$', date_str):\n",
    "            return None\n",
    "        \n",
    "        # If the date is in MM/DD/YY format\n",
    "        if re.match(r'\\d{2}/\\d{2}/\\d{2}', date_str):\n",
    "            parsed_date = pd.to_datetime(date_str, format='%m/%d/%y')\n",
    "        else:\n",
    "            # If the date is in a text format, use the date parser\n",
    "            parsed_date = parse(date_str)\n",
    "        \n",
    "        # If the result date is after than 2020, correct it to 19XX\n",
    "        if parsed_date >= datetime.strptime('2021-01-01', '%Y-%m-%d'):\n",
    "            parsed_date = parsed_date.replace(year=parsed_date.year - 100)\n",
    "        \n",
    "        # Returns date in YYYY-MM-DD format\n",
    "        return parsed_date.strftime('%Y-%m-%d')\n",
    "    except:\n",
    "        return None\n",
    "\n",
    "# Apply the function to the 'dirty_date' column\n",
    "df_books['clean_date'] = df_books['best_publish_date'].apply(clean_date)\n",
    "\n",
    "# df_books[['clean_date', 'best_publish_date']].to_clipboard(index=False)"
   ]
  },
  {
   "cell_type": "code",
   "execution_count": 153,
   "metadata": {},
   "outputs": [],
   "source": [
    "df_books_with_date = df_books[~df_books['clean_date'].isna()].copy()\n",
    "df_books_with_date = df_books_with_date[df_books_with_date['clean_date']!='0458-09-24'].copy()"
   ]
  },
  {
   "cell_type": "code",
   "execution_count": 181,
   "metadata": {},
   "outputs": [],
   "source": [
    "df_books_with_date['clean_date'] = pd.to_datetime(df_books_with_date['clean_date'])\n",
    "df_books_with_date['day_of_week'] = df_books_with_date['clean_date'].dt.day_name().astype(str)\n",
    "df_books_with_date['month_name'] = df_books_with_date['clean_date'].dt.month_name().astype(str)\n",
    "df_books_with_date['clean_date'] = df_books_with_date['clean_date'].astype(str)"
   ]
  },
  {
   "cell_type": "code",
   "execution_count": 219,
   "metadata": {},
   "outputs": [],
   "source": [
    "num_book_by_date = df_books_with_date.groupby('clean_date').agg({'bookId': 'count'})\n",
    "num_book_by_date.rename(columns={'bookId': 'num_of_books'}, inplace=True)\n",
    "\n",
    "num_book_by_day_of_week = df_books_with_date.groupby('day_of_week').agg({'bookId': 'count'})\n",
    "num_book_by_day_of_week.rename(columns={'bookId': 'num_of_books'}, inplace=True)\n",
    "\n",
    "num_book_by_month = df_books_with_date.groupby('month_name').agg({'bookId': 'count'})\n",
    "num_book_by_month.rename(columns={'bookId': 'num_of_books'}, inplace=True)\n",
    "new_order = ['January', 'February', 'March', 'April', 'May', 'June', 'July', 'August', 'September', 'October', 'November', 'December']\n",
    "\n",
    "num_book_by_month = num_book_by_month.reindex(new_order, axis=0)"
   ]
  },
  {
   "cell_type": "code",
   "execution_count": 220,
   "metadata": {},
   "outputs": [
    {
     "data": {
      "text/html": [
       "<div>\n",
       "<style scoped>\n",
       "    .dataframe tbody tr th:only-of-type {\n",
       "        vertical-align: middle;\n",
       "    }\n",
       "\n",
       "    .dataframe tbody tr th {\n",
       "        vertical-align: top;\n",
       "    }\n",
       "\n",
       "    .dataframe thead th {\n",
       "        text-align: right;\n",
       "    }\n",
       "</style>\n",
       "<table border=\"1\" class=\"dataframe\">\n",
       "  <thead>\n",
       "    <tr style=\"text-align: right;\">\n",
       "      <th></th>\n",
       "      <th>num_of_books</th>\n",
       "    </tr>\n",
       "    <tr>\n",
       "      <th>month_name</th>\n",
       "      <th></th>\n",
       "    </tr>\n",
       "  </thead>\n",
       "  <tbody>\n",
       "    <tr>\n",
       "      <th>January</th>\n",
       "      <td>2681</td>\n",
       "    </tr>\n",
       "    <tr>\n",
       "      <th>February</th>\n",
       "      <td>1005</td>\n",
       "    </tr>\n",
       "    <tr>\n",
       "      <th>March</th>\n",
       "      <td>1298</td>\n",
       "    </tr>\n",
       "    <tr>\n",
       "      <th>April</th>\n",
       "      <td>1366</td>\n",
       "    </tr>\n",
       "    <tr>\n",
       "      <th>May</th>\n",
       "      <td>1390</td>\n",
       "    </tr>\n",
       "    <tr>\n",
       "      <th>June</th>\n",
       "      <td>1198</td>\n",
       "    </tr>\n",
       "    <tr>\n",
       "      <th>July</th>\n",
       "      <td>1031</td>\n",
       "    </tr>\n",
       "    <tr>\n",
       "      <th>August</th>\n",
       "      <td>1292</td>\n",
       "    </tr>\n",
       "    <tr>\n",
       "      <th>September</th>\n",
       "      <td>1742</td>\n",
       "    </tr>\n",
       "    <tr>\n",
       "      <th>October</th>\n",
       "      <td>6491</td>\n",
       "    </tr>\n",
       "    <tr>\n",
       "      <th>November</th>\n",
       "      <td>2649</td>\n",
       "    </tr>\n",
       "    <tr>\n",
       "      <th>December</th>\n",
       "      <td>829</td>\n",
       "    </tr>\n",
       "  </tbody>\n",
       "</table>\n",
       "</div>"
      ],
      "text/plain": [
       "            num_of_books\n",
       "month_name              \n",
       "January             2681\n",
       "February            1005\n",
       "March               1298\n",
       "April               1366\n",
       "May                 1390\n",
       "June                1198\n",
       "July                1031\n",
       "August              1292\n",
       "September           1742\n",
       "October             6491\n",
       "November            2649\n",
       "December             829"
      ]
     },
     "execution_count": 220,
     "metadata": {},
     "output_type": "execute_result"
    }
   ],
   "source": [
    "num_book_by_month"
   ]
  },
  {
   "cell_type": "code",
   "execution_count": 221,
   "metadata": {},
   "outputs": [
    {
     "data": {
      "text/plain": [
       "<Axes: xlabel='month_name', ylabel='num_of_books'>"
      ]
     },
     "execution_count": 221,
     "metadata": {},
     "output_type": "execute_result"
    },
    {
     "data": {
      "image/png": "[encoded data removed]",
      "text/plain": [
       "<Figure size 640x480 with 1 Axes>"
      ]
     },
     "metadata": {},
     "output_type": "display_data"
    }
   ],
   "source": [
    "sns.scatterplot(num_book_by_month['num_of_books'])"
   ]
  },
  {
   "cell_type": "code",
   "execution_count": 215,
   "metadata": {},
   "outputs": [],
   "source": [
    "num_book_by_date.to_csv('./output/num_books_by_time/num_book_by_date.csv')\n",
    "num_book_by_day_of_week.to_csv('./output/num_books_by_time/num_book_by_day_of_week.csv')\n",
    "num_book_by_month.to_csv('./output/num_books_by_time/num_book_by_month.csv')"
   ]
  },
  {
   "cell_type": "code",
   "execution_count": null,
   "metadata": {},
   "outputs": [],
   "source": []
  }
 ],
 "metadata": {
  "kernelspec": {
   "display_name": "tecnico_sandbox",
   "language": "python",
   "name": "python3"
  },
  "language_info": {
   "codemirror_mode": {
    "name": "ipython",
    "version": 3
   },
   "file_extension": ".py",
   "mimetype": "text/x-python",
   "name": "python",
   "nbconvert_exporter": "python",
   "pygments_lexer": "ipython3",
   "version": "3.11.5"
  },
  "orig_nbformat": 4
 },
 "nbformat": 4,
 "nbformat_minor": 2
}
